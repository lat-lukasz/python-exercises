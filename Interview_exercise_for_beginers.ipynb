{
 "cells": [
  {
   "cell_type": "markdown",
   "metadata": {},
   "source": [
    "# FizzBuzz "
   ]
  },
  {
   "cell_type": "code",
   "execution_count": 1,
   "metadata": {},
   "outputs": [],
   "source": [
    "def FizzBuzz():\n",
    "    for x in range(1,100):\n",
    "        if x % 3 == 0 and x % 5 == 0:\n",
    "            print(x,'FizzBuzz')\n",
    "        else:\n",
    "            if x % 5 == 0:\n",
    "                print(x,'Buzz')\n",
    "            elif x % 3 ==0:\n",
    "                print(x,'Fizz')\n",
    "            else:\n",
    "                print(x)"
   ]
  },
  {
   "cell_type": "code",
   "execution_count": 2,
   "metadata": {},
   "outputs": [
    {
     "name": "stdout",
     "output_type": "stream",
     "text": [
      "1\n",
      "2\n",
      "3 Fizz\n",
      "4\n",
      "5 Buzz\n",
      "6 Fizz\n",
      "7\n",
      "8\n",
      "9 Fizz\n",
      "10 Buzz\n",
      "11\n",
      "12 Fizz\n",
      "13\n",
      "14\n",
      "15 FizzBuzz\n",
      "16\n",
      "17\n",
      "18 Fizz\n",
      "19\n",
      "20 Buzz\n",
      "21 Fizz\n",
      "22\n",
      "23\n",
      "24 Fizz\n",
      "25 Buzz\n",
      "26\n",
      "27 Fizz\n",
      "28\n",
      "29\n",
      "30 FizzBuzz\n",
      "31\n",
      "32\n",
      "33 Fizz\n",
      "34\n",
      "35 Buzz\n",
      "36 Fizz\n",
      "37\n",
      "38\n",
      "39 Fizz\n",
      "40 Buzz\n",
      "41\n",
      "42 Fizz\n",
      "43\n",
      "44\n",
      "45 FizzBuzz\n",
      "46\n",
      "47\n",
      "48 Fizz\n",
      "49\n",
      "50 Buzz\n",
      "51 Fizz\n",
      "52\n",
      "53\n",
      "54 Fizz\n",
      "55 Buzz\n",
      "56\n",
      "57 Fizz\n",
      "58\n",
      "59\n",
      "60 FizzBuzz\n",
      "61\n",
      "62\n",
      "63 Fizz\n",
      "64\n",
      "65 Buzz\n",
      "66 Fizz\n",
      "67\n",
      "68\n",
      "69 Fizz\n",
      "70 Buzz\n",
      "71\n",
      "72 Fizz\n",
      "73\n",
      "74\n",
      "75 FizzBuzz\n",
      "76\n",
      "77\n",
      "78 Fizz\n",
      "79\n",
      "80 Buzz\n",
      "81 Fizz\n",
      "82\n",
      "83\n",
      "84 Fizz\n",
      "85 Buzz\n",
      "86\n",
      "87 Fizz\n",
      "88\n",
      "89\n",
      "90 FizzBuzz\n",
      "91\n",
      "92\n",
      "93 Fizz\n",
      "94\n",
      "95 Buzz\n",
      "96 Fizz\n",
      "97\n",
      "98\n",
      "99 Fizz\n"
     ]
    }
   ],
   "source": [
    "FizzBuzz()"
   ]
  },
  {
   "cell_type": "markdown",
   "metadata": {},
   "source": [
    "# Fibonacci sequence  "
   ]
  },
  {
   "cell_type": "code",
   "execution_count": 3,
   "metadata": {},
   "outputs": [
    {
     "name": "stdout",
     "output_type": "stream",
     "text": [
      "Number of elements in Fibonacci sequence: 5\n",
      "[0, 1, 1, 2, 3, 5]\n"
     ]
    }
   ],
   "source": [
    "n = int(input('Number of elements in Fibonacci sequence: '))\n",
    "Fib_seq = []\n",
    "if n == 0:\n",
    "    print(Fib_seq.append(n))\n",
    "else:\n",
    "    a, b = 0, 1\n",
    "    Fib_seq.append(a)\n",
    "    Fib_seq.append(b)\n",
    "    for x in range (n-1):\n",
    "        a,b = b, a+b\n",
    "        Fib_seq.append(b)\n",
    "print(Fib_seq)"
   ]
  },
  {
   "cell_type": "markdown",
   "metadata": {},
   "source": [
    "# Polindrom"
   ]
  },
  {
   "cell_type": "code",
   "execution_count": 4,
   "metadata": {},
   "outputs": [
    {
     "name": "stdout",
     "output_type": "stream",
     "text": [
      "Give me word: fghfgh\n",
      "Not polindrom\n"
     ]
    }
   ],
   "source": [
    "word = input('Give me word: ').strip().lower()\n",
    "if word == word[::-1]:\n",
    "    print('Polindrom')\n",
    "else: print('Not polindrom')"
   ]
  },
  {
   "cell_type": "markdown",
   "metadata": {},
   "source": [
    "# isPrime"
   ]
  },
  {
   "cell_type": "code",
   "execution_count": 6,
   "metadata": {},
   "outputs": [
    {
     "name": "stdout",
     "output_type": "stream",
     "text": [
      "Give me number: 56\n",
      "is not Prime\n"
     ]
    }
   ],
   "source": [
    "val = int(input('Give me number: '))\n",
    "for i in range (2,(val-1)):\n",
    "    if val % i == 0:\n",
    "        print('is not Prime')\n",
    "        break\n",
    "else:\n",
    "    print('is Prime')"
   ]
  },
  {
   "cell_type": "markdown",
   "metadata": {},
   "source": [
    "# isPrime numbers within range"
   ]
  },
  {
   "cell_type": "code",
   "execution_count": 7,
   "metadata": {},
   "outputs": [
    {
     "name": "stdout",
     "output_type": "stream",
     "text": [
      "two numbers separatred by a comma: 1,56\n",
      "[2, 3, 5, 7, 11, 13, 17, 19, 23, 29, 31, 37, 41, 43, 47, 53]\n"
     ]
    }
   ],
   "source": [
    "raw_input = input('two numbers separatred by a comma: ')\n",
    "first, last = [int(x) for x in raw_input.split(',')]\n",
    "\n",
    "def is_prime(var):\n",
    "    if var == 1 or var == 0:\n",
    "        return False\n",
    "    else:\n",
    "        for i in range (2, (var-1)):\n",
    "            if var % i == 0:\n",
    "                return False\n",
    "                break\n",
    "        else:\n",
    "            return True\n",
    "\n",
    "is_prime_list = []\n",
    "for i in range(first,last):\n",
    "    if is_prime(i) == True:\n",
    "        is_prime_list.append(i)\n",
    "\n",
    "print(is_prime_list)"
   ]
  },
  {
   "cell_type": "markdown",
   "metadata": {},
   "source": [
    "# BabylonSQRT\n",
    "https://pl.wikipedia.org/wiki/Metody_obliczania_pierwiastka_kwadratowego#Metoda_babilo%C5%84ska"
   ]
  },
  {
   "cell_type": "code",
   "execution_count": 8,
   "metadata": {},
   "outputs": [
    {
     "name": "stdout",
     "output_type": "stream",
     "text": [
      "Give me a number56\n",
      "7.483314773547883\n"
     ]
    }
   ],
   "source": [
    "var = float(input('Give me a number: ').replace(',','.'))\n",
    "\n",
    "def babylon_sqrt(var):\n",
    "    \n",
    "    if var >= 1:\n",
    "        D = sum([1 for x in str(var).split('.')[0]])\n",
    "    else:\n",
    "        D = -sum([1 for x in ('%f' % var).split('.')[1] if x == '0'])\n",
    "    \n",
    "    if D % 2 == 0:\n",
    "        x = 6*(10**((D-2)/2))\n",
    "    else:\n",
    "        x = 2*(10**((D-1)/2))\n",
    "        \n",
    "\n",
    "    x_i = (1/2)*(x+(var/x))\n",
    "\n",
    "\n",
    "    while x != x_i:\n",
    "        x = x_i\n",
    "        x_i = (1/2)*(x+(var/x))\n",
    "    \n",
    "    return x\n",
    "\n",
    "print(babylon_sqrt(var))"
   ]
  },
  {
   "cell_type": "markdown",
   "metadata": {},
   "source": [
    "# Bubble sort\n",
    "https://en.wikipedia.org/wiki/Bubble_sort"
   ]
  },
  {
   "cell_type": "code",
   "execution_count": 10,
   "metadata": {},
   "outputs": [
    {
     "name": "stdout",
     "output_type": "stream",
     "text": [
      "Numbers separated by a comma: 45,5,5,456,456,456,45,6,45,78,4,252,85,4524,852,48\n",
      "[   4    5    5    6   45   45   45   48   78   85  252  456  456  456\n",
      "  852 4524]\n"
     ]
    }
   ],
   "source": [
    "import numpy as np\n",
    "raw_input = input('Numbers separated by a comma: ')\n",
    "data = np.array([int(x) for x in raw_input.split(',')])\n",
    "\n",
    "for i in range(len(data)):\n",
    "    for n in range(i+1,len(data)):\n",
    "        if data[i] >data[n]:\n",
    "            data[i], data[n] = data[n], data[i]\n",
    "            \n",
    "print(data)"
   ]
  },
  {
   "cell_type": "markdown",
   "metadata": {},
   "source": [
    "# GROT\n",
    "https://gist.github.com/sargo/8c75ba58790b230fcf08"
   ]
  },
  {
   "cell_type": "code",
   "execution_count": 11,
   "metadata": {},
   "outputs": [
    {
     "name": "stdout",
     "output_type": "stream",
     "text": [
      "[(4, 4), (3, 4), (3, 3), (3, 2), (2, 2), (2, 1), (2, 0), (1, 0), (0, 0), (-1, 0)]\n",
      "[(3, 3), (3, 2), (2, 2), (2, 1), (1, 1), (1, 2), (1, 1)]\n"
     ]
    }
   ],
   "source": [
    "sample_1 = [\n",
    "    ['u', 'd', 'u', 'u'], # ↑ ↓ ↑ ↑\n",
    "    ['u', 'r', 'l', 'l'], # ↑ → ← ←\n",
    "    ['u', 'u', 'l', 'u'], # ↑ ↑ ← ↑\n",
    "    ['l', 'd', 'u', 'l'], # ← ↓ ↑ ←\n",
    "]\n",
    "sample_2 = [\n",
    "    ['u', 'd', 'u', 'u', 'u', 'd', 'u', 'u'],\n",
    "    ['u', 'u', 'l', 'u', 'u', 'u', 'l', 'u'],\n",
    "    ['u', 'l', 'l', 'l', 'u', 'r', 'l', 'l'],\n",
    "    ['l', 'd', 'u', 'l', 'l', 'd', 'u', 'l'],\n",
    "    ['d', 'u', 'l', 'd', 'u', 'l', 'd', 'u'],\n",
    "]\n",
    "\n",
    "\n",
    "class path(object):\n",
    "    \n",
    "    def __init__(self,x,y,sample):\n",
    "        \n",
    "        self.path = [(x,y)]\n",
    "        self.x = x\n",
    "        self.y = y\n",
    "        self.sample = sample\n",
    "        \n",
    "    def run(self):\n",
    "           \n",
    "        while (self.x,self.y) not in self.path[:-1] and self.x >= 0 and self.x < len(self.sample) and self.y >= 0 and self.y < len(self.sample[0]):\n",
    "                    \n",
    "            if self.sample[self.x][self.y] == 'u':\n",
    "                self.x -= 1\n",
    "                self.path.append((self.x,self.y))\n",
    "            \n",
    "            elif self.sample[self.x][self.y] == 'd':\n",
    "                self.x += 1\n",
    "                self.path.append((self.x,self.y))\n",
    "                \n",
    "            elif self.sample[self.x][self.y] == 'r':\n",
    "                self.y += 1\n",
    "                self.path.append((self.x,self.y))\n",
    "                \n",
    "            elif self.sample[self.x][self.y] == 'l':\n",
    "                self.y -= 1\n",
    "                self.path.append((self.x,self.y))\n",
    "                \n",
    "    def get_path(self):\n",
    "        return self.path\n",
    "        \n",
    "def find_way(sample):\n",
    "    \n",
    "    all_way = []\n",
    "    \n",
    "    for y in range(len(sample)):\n",
    "        for x in range(len(sample[0])):\n",
    "            sample_path = path(x,y,sample)\n",
    "            sample_path.run()\n",
    "            all_way.append(sample_path.get_path())\n",
    "    \n",
    "    idx,length = sorted(enumerate([len(x) for x in all_way]), key = lambda x: x[1])[-1]\n",
    "    \n",
    "    return all_way[idx]\n",
    "    \n",
    "    \n",
    "print(find_way(sample_2))\n",
    "print(find_way(sample_1))"
   ]
  },
  {
   "cell_type": "markdown",
   "metadata": {},
   "source": [
    "# WeirdText\n",
    "https://gist.github.com/sargo/e3a4d72fbdace178e1b6"
   ]
  },
  {
   "cell_type": "code",
   "execution_count": 26,
   "metadata": {},
   "outputs": [],
   "source": [
    "text = 'This is a long looooong test sentence, \\n with some big (biiiiig) words!'\n",
    "\n",
    "def shuffle_words_decorator(func):\n",
    "    def wraper(text):\n",
    "        print('\\n---weird---\\n')\n",
    "        shuffled_text = func(text)\n",
    "        print('\\n---weird---\\n')\n",
    "        shuffled_text = '\\n---weird---\\n' + shuffled_text + '\\n---weird---\\n'\n",
    "        return shuffled_text \n",
    "    return wraper\n",
    "\n",
    "@shuffle_words_decorator\n",
    "def shuffle_words(text):\n",
    "    \n",
    "    import random\n",
    "    import string\n",
    "\n",
    "    shuffled_text=[]\n",
    "    for x in text.split(' '):\n",
    "        if len(x) > 3:\n",
    "            for y in range(len(x)):\n",
    "                if x[y] in string.ascii_lowercase or x[y] in string.ascii_uppercase:\n",
    "                    first_idx = y\n",
    "                    break\n",
    "\n",
    "            for y in range(1,len(x)):\n",
    "                y=-y\n",
    "                if x[y] in string.ascii_lowercase or x[y] in string.ascii_uppercase:\n",
    "                    last_idx = y\n",
    "                    break\n",
    "\n",
    "            sliced = x[first_idx+1:last_idx]\n",
    "            sliced_shuffled_raw = list(sliced)\n",
    "            random.shuffle(sliced_shuffled_raw)\n",
    "            sliced_shuffled = ''.join(sliced_shuffled_raw)\n",
    "\n",
    "            if len(set(list(sliced))) != 1: #remove problem with all letters inside word are the same (biiiiiiiig)\n",
    "                while sliced == sliced_shuffled: #remove problem with lack of shuffle in small words like 'This'\n",
    "                    sliced_shuffled_raw = list(sliced)\n",
    "                    random.shuffle(sliced_shuffled_raw)\n",
    "                    sliced_shuffled = ''.join(sliced_shuffled_raw)\n",
    "\n",
    "            shuffled_word = x[:first_idx+1]+sliced_shuffled+x[last_idx:]\n",
    "            shuffled_text.append(shuffled_word)\n",
    "\n",
    "        else: shuffled_text.append(x) \n",
    "            \n",
    "    shuffled_text = ' '.join(shuffled_text)\n",
    "    print(shuffled_text)\n",
    "    return shuffled_text\n",
    "    \n",
    "    \n",
    "def shuffle_text(text):\n",
    "    \n",
    "    import random\n",
    "    \n",
    "    shuffled_text = text.split(' ')\n",
    "    random.shuffle(shuffled_text)\n",
    "    shuffled_text = ' '.join(shuffled_text)\n",
    "    \n",
    "    print(shuffled_text)\n",
    "    \n",
    "    return shuffled_text\n",
    "     \n",
    "    \n",
    "def encoder(text):\n",
    "    words_shuffled = shuffle_words(text)\n",
    "    text_shuffled = shuffle_text(text)\n",
    "    encoded_text = str(words_shuffled) + str(text_shuffled)\n",
    "     \n",
    "    return encoded_text\n",
    "\n",
    "def decoder(text):\n",
    "    text_to_decode = text.split('\\n---weird---\\n')[1:]\n",
    "    decoded_text = []\n",
    "    for word_shuffled in text_to_decode[0].split(' '):\n",
    "        for word_clear in text_to_decode[1].split(' '):\n",
    "            if sorted(list(word_shuffled)) == sorted(list(word_clear)):\n",
    "                decoded_text.append(word_clear)\n",
    "    decoded_text = ' '.join(decoded_text)\n",
    "    print (decoded_text)\n",
    "    return decoded_text\n"
   ]
  },
  {
   "cell_type": "code",
   "execution_count": 27,
   "metadata": {},
   "outputs": [
    {
     "name": "stdout",
     "output_type": "stream",
     "text": [
      "\n",
      "---weird---\n",
      "\n",
      "Tihs is a lnog lonoooog tset sntcneee, \n",
      " wtih smoe big (biiiiig) wrods!\n",
      "\n",
      "---weird---\n",
      "\n",
      "(biiiiig) test with a words! long looooong sentence, some This big \n",
      " is\n"
     ]
    }
   ],
   "source": [
    "text_encoded = encoder(text)"
   ]
  },
  {
   "cell_type": "code",
   "execution_count": 28,
   "metadata": {},
   "outputs": [
    {
     "name": "stdout",
     "output_type": "stream",
     "text": [
      "This is a long looooong test sentence, \n",
      " with some big (biiiiig) words!\n"
     ]
    }
   ],
   "source": [
    "text_decoded = decoder(text_encoded)"
   ]
  },
  {
   "cell_type": "code",
   "execution_count": 29,
   "metadata": {},
   "outputs": [
    {
     "name": "stdout",
     "output_type": "stream",
     "text": [
      "This is a long looooong test sentence, \n",
      " with some big (biiiiig) words!\n"
     ]
    }
   ],
   "source": [
    "print(text)"
   ]
  },
  {
   "cell_type": "code",
   "execution_count": 30,
   "metadata": {},
   "outputs": [
    {
     "data": {
      "text/plain": [
       "True"
      ]
     },
     "execution_count": 30,
     "metadata": {},
     "output_type": "execute_result"
    }
   ],
   "source": [
    "text_decoded == text"
   ]
  },
  {
   "cell_type": "markdown",
   "metadata": {},
   "source": [
    "# Unwrapping A Spiral\n",
    "https://programmingpraxis.com/2010/06/01/unwrapping-a-spiral/"
   ]
  },
  {
   "cell_type": "code",
   "execution_count": 1,
   "metadata": {},
   "outputs": [],
   "source": [
    "import numpy as np\n",
    "mtx = np.random.randint(0,10,size =(5,5))\n",
    "\n",
    "def spiral_wrapper(mtx):\n",
    "    spiral = []\n",
    "    while mtx.shape[0] != 0:\n",
    "        \n",
    "        [spiral.append(x) for x in mtx[0]]\n",
    "        mtx = np.delete(mtx,0,axis=0)\n",
    "        mtx = np.rot90(mtx)\n",
    "        \n",
    "    return spiral"
   ]
  },
  {
   "cell_type": "code",
   "execution_count": 2,
   "metadata": {},
   "outputs": [
    {
     "name": "stdout",
     "output_type": "stream",
     "text": [
      "\n",
      "matrix\n",
      " [[2 4 5 4 4]\n",
      " [9 5 2 5 4]\n",
      " [4 4 3 3 9]\n",
      " [8 8 1 9 6]\n",
      " [8 5 9 7 3]]\n",
      "\n",
      "spiral wrapping [2, 4, 5, 4, 4, 4, 9, 6, 3, 7, 9, 5, 8, 8, 4, 9, 5, 2, 5, 3, 9, 1, 8, 4, 3]\n",
      "\n",
      "matrix\n",
      " [[7 1 5 9 7]\n",
      " [0 0 2 8 6]\n",
      " [3 8 1 1 2]\n",
      " [0 4 8 7 7]\n",
      " [2 2 9 4 0]\n",
      " [3 5 6 2 4]\n",
      " [2 2 6 7 9]\n",
      " [3 9 1 8 4]\n",
      " [8 9 8 8 9]\n",
      " [6 7 9 0 8]]\n",
      "\n",
      "spiral wrapping [7, 1, 5, 9, 7, 6, 2, 7, 0, 4, 9, 4, 9, 8, 0, 9, 7, 6, 8, 3, 2, 3, 2, 0, 3, 0, 0, 2, 8, 1, 7, 4, 2, 7, 8, 8, 8, 9, 9, 2, 5, 2, 4, 8, 1, 8, 9, 6, 6, 1]\n",
      "\n",
      "matrix\n",
      " [[3 8 8 1 3 2 8 3 4 2]\n",
      " [5 3 5 7 6 6 4 3 3 4]\n",
      " [2 6 7 6 0 2 5 0 7 7]\n",
      " [8 9 0 3 9 8 3 6 8 1]\n",
      " [6 2 9 4 0 5 1 9 3 3]]\n",
      "\n",
      "spiral wrapping [3, 8, 8, 1, 3, 2, 8, 3, 4, 2, 4, 7, 1, 3, 3, 9, 1, 5, 0, 4, 9, 2, 6, 8, 2, 5, 3, 5, 7, 6, 6, 4, 3, 3, 7, 8, 6, 3, 8, 9, 3, 0, 9, 6, 7, 6, 0, 2, 5, 0]\n"
     ]
    }
   ],
   "source": [
    "for x,y in [(5,5),(10,5),(5,10)]:\n",
    "    mtx = np.random.randint(0,10, size =(x,y))\n",
    "    print(\"\\nmatrix\\n\",mtx)\n",
    "    print(\"\\nspiral wrapping\", spiral_wrapper(mtx))"
   ]
  },
  {
   "cell_type": "code",
   "execution_count": null,
   "metadata": {},
   "outputs": [],
   "source": []
  }
 ],
 "metadata": {
  "kernelspec": {
   "display_name": "Python 3",
   "language": "python",
   "name": "python3"
  },
  "language_info": {
   "codemirror_mode": {
    "name": "ipython",
    "version": 3
   },
   "file_extension": ".py",
   "mimetype": "text/x-python",
   "name": "python",
   "nbconvert_exporter": "python",
   "pygments_lexer": "ipython3",
   "version": "3.7.3"
  }
 },
 "nbformat": 4,
 "nbformat_minor": 4
}
